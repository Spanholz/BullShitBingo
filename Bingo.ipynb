{
 "cells": [
  {
   "cell_type": "markdown",
   "metadata": {},
   "source": [
    "Bingo"
   ]
  },
  {
   "cell_type": "code",
   "execution_count": 1,
   "metadata": {},
   "outputs": [
    {
     "name": "stdout",
     "output_type": "stream",
     "text": [
      "Your current list is 12 entries long.\n",
      "Which grid size do you want? 3, 4 or 5? 4\n",
      "╒════════════════════╤════════════════════╤═════════════════════╤════════════════════╕\n",
      "│ Akteur/Stakeholder │ Blockchain         │ Vernetzung          │ Trendsetter        │\n",
      "├────────────────────┼────────────────────┼─────────────────────┼────────────────────┤\n",
      "│ Neuronale Netze/KI │ Querschnittsthemen │ digitale Revolution │ bespielen          │\n",
      "├────────────────────┼────────────────────┼─────────────────────┼────────────────────┤\n",
      "│ agil               │ Aufschlag          │ triggern            │ horizontale        │\n",
      "├────────────────────┼────────────────────┼─────────────────────┼────────────────────┤\n",
      "│ Blockchain         │ Vernetzung         │ Trendsetter         │ Neuronale Netze/KI │\n",
      "╘════════════════════╧════════════════════╧═════════════════════╧════════════════════╛\n"
     ]
    }
   ],
   "source": [
    "import csv\n",
    "import numpy as np\n",
    "from tabulate import tabulate\n",
    "\n",
    "def bingo():\n",
    "    \n",
    "    with open('example.csv', newline='') as csvfile:\n",
    "        csvreader = csv.reader(csvfile, delimiter=',', quotechar='\"')\n",
    "        csv_list = []\n",
    "        for i in csvreader:\n",
    "            csv_list.append(i[0])\n",
    "\n",
    "    np.random.shuffle(csv_list)\n",
    "    bingo_list = csv_list\n",
    "    \n",
    "    print(\"Your current list is \" + str(len(bingo_list)) + \" entries long.\")\n",
    "          \n",
    "    grid_size = int(input(\"Which grid size do you want? 3, 4 or 5? \"))\n",
    "    \n",
    "    \n",
    "    while grid_size < 3 or grid_size > 5:\n",
    "        print(\"Your Bingo grid is too small/big! Please enter a size between 3 and 5.\")\n",
    "        grid_size = int(input(\"Which grid size do you want? 3, 4 or 5?\"))\n",
    "        break\n",
    "        \n",
    "        \n",
    "        \n",
    "    \n",
    "    \n",
    "    a = 0 \n",
    "    while len(bingo_list) < grid_size ** 2:\n",
    "        for i in bingo_list:\n",
    "            \n",
    "            a +=1\n",
    "            bingo_list.append(bingo_list[a])\n",
    "            break\n",
    "    \n",
    "    \n",
    "\n",
    "    arr = np.array(bingo_list[:(grid_size ** 2)]).reshape((grid_size, grid_size))\n",
    "    print(tabulate(arr, tablefmt=\"fancy_grid\"))\n",
    "\n",
    "    with open(\"bingo.txt\", \"a\", encoding =\"UTF-8\") as f:\n",
    "        print(tabulate(arr, tablefmt=\"fancy_grid\"), file=f)   \n",
    "    \n",
    "    \n",
    "        \n",
    "bingo()\n",
    "\n",
    "\n",
    "\n"
   ]
  },
  {
   "cell_type": "code",
   "execution_count": null,
   "metadata": {},
   "outputs": [],
   "source": []
  }
 ],
 "metadata": {
  "kernelspec": {
   "display_name": "Python 3",
   "language": "python",
   "name": "python3"
  },
  "language_info": {
   "codemirror_mode": {
    "name": "ipython",
    "version": 3
   },
   "file_extension": ".py",
   "mimetype": "text/x-python",
   "name": "python",
   "nbconvert_exporter": "python",
   "pygments_lexer": "ipython3",
   "version": "3.7.1"
  }
 },
 "nbformat": 4,
 "nbformat_minor": 2
}
